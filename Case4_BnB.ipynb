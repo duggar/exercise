{
 "cells": [
  {
   "cell_type": "code",
   "execution_count": 27,
   "id": "e65d4eba-c67d-4640-9f35-727dc5ad01ad",
   "metadata": {},
   "outputs": [],
   "source": [
    "import numpy as np, yfinance as yf\n",
    "import datetime, numpy as np, pandas as pd\n",
    "import QuantLib as ql \n",
    "import matplotlib.pyplot as plt\n",
    "import plotly.express as px\n",
    "%matplotlib inline"
   ]
  },
  {
   "cell_type": "code",
   "execution_count": 28,
   "id": "578773db-6d15-4a71-8247-9a69a75ab187",
   "metadata": {},
   "outputs": [
    {
     "name": "stdout",
     "output_type": "stream",
     "text": [
      "[*********************100%***********************]  1 of 1 completed\n"
     ]
    }
   ],
   "source": [
    "df = yf.download(\"AAPL\",start='2019-01-01',end='2021-12-31')\n",
    "df.dropna(inplace=True)\n"
   ]
  },
  {
   "cell_type": "code",
   "execution_count": 29,
   "id": "5c797800-057c-4d59-9cc3-2324e3187ae2",
   "metadata": {},
   "outputs": [
    {
     "name": "stdout",
     "output_type": "stream",
     "text": [
      "Current Price is 145.86\n",
      "ATM Put Strike: 146.0\n",
      "10% OTM Call Strikes: 160.0\n"
     ]
    }
   ],
   "source": [
    "last_price = np.round(df['Close'].values[-1],2)\n",
    "put_strike=np.round(last_price,0)\n",
    "call_strike = np.round(last_price*1.1,0)\n",
    "print(f\"Current Price is {last_price}\")\n",
    "print(f\"ATM Put Strike: {put_strike}\")\n",
    "print(f\"10% OTM Call Strikes: {call_strike}\")"
   ]
  },
  {
   "cell_type": "code",
   "execution_count": 30,
   "id": "fb8aaf81-ad4e-4963-8537-45ba8a9a3f5b",
   "metadata": {},
   "outputs": [],
   "source": [
    "def american_pricer(spot_price,strike_price, price_date, expiry_date, \n",
    "                    volatility=.20,dividend_rate=0.0,opt_type=\"Call\",risk_free_rate=.001):\n",
    "    if opt_type.lower() == \"call\":\n",
    "        option_type = ql.Option.Call\n",
    "    else:\n",
    "        option_type = ql.Option.Put\n",
    "    maturity_date = ql.Date(int(expiry_date.split(\"-\")[-1]), int(expiry_date.split(\"-\")[1]), int(expiry_date.split(\"-\")[0]))\n",
    "    calculation_date = ql.Date(int(price_date.split(\"-\")[-1]), int(price_date.split(\"-\")[1]), int(price_date.split(\"-\")[0]))\n",
    "    day_count = ql.Actual365Fixed()\n",
    "    calendar = ql.UnitedStates()\n",
    "    payoff = ql.PlainVanillaPayoff(option_type, strike_price)\n",
    "    settlement = calculation_date\n",
    "    am_exercise = ql.AmericanExercise(settlement, maturity_date)\n",
    "    american_option = ql.VanillaOption(payoff, am_exercise)\n",
    "    spot_handle = ql.QuoteHandle(\n",
    "        ql.SimpleQuote(spot_price)\n",
    "    )\n",
    "    flat_ts = ql.YieldTermStructureHandle(\n",
    "        ql.FlatForward(calculation_date, risk_free_rate, day_count)\n",
    "    )\n",
    "    dividend_yield = ql.YieldTermStructureHandle(\n",
    "        ql.FlatForward(calculation_date, dividend_rate, day_count)\n",
    "    )\n",
    "    flat_vol_ts = ql.BlackVolTermStructureHandle(\n",
    "        ql.BlackConstantVol(calculation_date, calendar, volatility, day_count)\n",
    "    )\n",
    "    bsm_process = ql.BlackScholesMertonProcess(spot_handle, \n",
    "                                               dividend_yield, \n",
    "                                               flat_ts, \n",
    "                                               flat_vol_ts)\n",
    "    steps = 2000\n",
    "    binomial_engine = ql.BinomialVanillaEngine(bsm_process, \"crr\", steps)\n",
    "    american_option.setPricingEngine(binomial_engine)\n",
    "    return (np.round(american_option.NPV(),2))"
   ]
  },
  {
   "cell_type": "code",
   "execution_count": 31,
   "id": "71c8140a-da2c-4b5d-9e66-b00c0f805b7d",
   "metadata": {},
   "outputs": [],
   "source": [
    "spot_price = last_price\n",
    "volatility = 0.20\n",
    "dividend_rate =  0.06\n",
    "risk_free_rate = 0.001\n",
    "price_date = \"2021-07-30\"\n",
    "expiry_date = \"2021-08-30\"\n",
    "call_price =  american_pricer(spot_price, strike_price=call_strike, price_date=price_date, dividend_rate=dividend_rate,\n",
    "                                       expiry_date=expiry_date, risk_free_rate=risk_free_rate, volatility=volatility)\n",
    "put_price =  american_pricer(spot_price, strike_price=put_strike, price_date=price_date, dividend_rate=dividend_rate,\n",
    "                                       expiry_date=expiry_date, risk_free_rate=risk_free_rate, volatility=volatility,\n",
    "                                     opt_type = 'put')"
   ]
  },
  {
   "cell_type": "code",
   "execution_count": 32,
   "id": "d1e4fcf0-df56-460f-b6cc-9c32ef3247cb",
   "metadata": {},
   "outputs": [
    {
     "name": "stdout",
     "output_type": "stream",
     "text": [
      "Price of 1 lot of Put at Strike 146.0: 3.84\n",
      "Price of 1 lot of Call at Strike 160.0: 0.17\n"
     ]
    }
   ],
   "source": [
    "print(f\"Price of 1 lot of Put at Strike {put_strike}: {put_price}\")\n",
    "print(f\"Price of 1 lot of Call at Strike {call_strike}: {call_price}\")"
   ]
  },
  {
   "cell_type": "code",
   "execution_count": 33,
   "id": "c35b8081-010f-49ff-b16d-e7f108289f15",
   "metadata": {},
   "outputs": [],
   "source": [
    "sim_price = np.linspace(.0,2,50,endpoint=True)*last_price\n",
    "put_payoff = np.round(np.maximum(put_strike - sim_price,0.0) - put_price,4)\n",
    "call_payoff = np.round(np.maximum(sim_price-call_strike,0) - call_price,4)"
   ]
  },
  {
   "cell_type": "code",
   "execution_count": 34,
   "id": "8e25c56b-4460-4c81-a7d8-013bafd38b5c",
   "metadata": {},
   "outputs": [],
   "source": [
    "put_size = 25\n",
    "call_size = 125\n",
    "stock_size = 100\n"
   ]
  },
  {
   "cell_type": "code",
   "execution_count": 35,
   "id": "98bacba4-ea6e-40d3-b44c-075656d61907",
   "metadata": {},
   "outputs": [],
   "source": [
    "pay_df = pd.DataFrame()\n",
    "pay_df['Payoff'] = (sim_price-last_price)*stock_size + put_payoff*put_size -call_size*call_payoff\n",
    "pay_df['Stock'] = sim_price\n",
    "#pay_df = pay_df.set_index('stock_price')\n",
    "pay_df['0'] = 0"
   ]
  },
  {
   "cell_type": "markdown",
   "id": "58425ad8-8517-4be7-9ecd-daabe36a1855",
   "metadata": {},
   "source": [
    "3. What is the biggest risk to the client?\n"
   ]
  },
  {
   "cell_type": "code",
   "execution_count": 36,
   "id": "38726549-da28-4a24-9b5e-990116017103",
   "metadata": {},
   "outputs": [
    {
     "data": {
      "application/vnd.plotly.v1+json": {
       "config": {
        "plotlyServerURL": "https://plot.ly"
       },
       "data": [
        {
         "hovertemplate": "Stock=%{x}<br>Payoff=%{y}<extra></extra>",
         "legendgroup": "",
         "line": {
          "color": "#636efa",
          "dash": "solid"
         },
         "mode": "lines",
         "name": "",
         "orientation": "v",
         "showlegend": false,
         "type": "scatter",
         "x": [
          0,
          5.953469387755102,
          11.906938775510204,
          17.86040816326531,
          23.813877551020408,
          29.76734693877551,
          35.72081632653062,
          41.674285714285716,
          47.627755102040815,
          53.581224489795915,
          59.53469387755102,
          65.48816326530613,
          71.44163265306123,
          77.39510204081633,
          83.34857142857143,
          89.30204081632652,
          95.25551020408163,
          101.20897959183674,
          107.16244897959183,
          113.11591836734695,
          119.06938775510204,
          125.02285714285715,
          130.97632653061225,
          136.92979591836735,
          142.88326530612247,
          148.83673469387756,
          154.79020408163265,
          160.74367346938774,
          166.69714285714286,
          172.65061224489799,
          178.60408163265305,
          184.55755102040817,
          190.51102040816326,
          196.46448979591838,
          202.41795918367347,
          208.37142857142857,
          214.32489795918366,
          220.27836734693878,
          226.2318367346939,
          232.18530612244896,
          238.13877551020408,
          244.09224489795918,
          250.0457142857143,
          255.99918367346942,
          261.9526530612245,
          267.9061224489796,
          273.8595918367347,
          279.8130612244898,
          285.76653061224494,
          291.72
         ],
         "xaxis": "x",
         "y": [
          -11010.750000000002,
          -10564.240561224491,
          -10117.72862244898,
          -9671.219183673471,
          -9224.70974489796,
          -8778.19780612245,
          -8331.68836734694,
          -7885.178928571429,
          -7438.669489795919,
          -6992.15755102041,
          -6545.6481122449,
          -6099.138673469389,
          -5652.626734693878,
          -5206.11729591837,
          -4759.607857142858,
          -4313.095918367349,
          -3866.586479591838,
          -3420.0770408163276,
          -2973.565102040818,
          -2527.0556632653065,
          -2080.546224489797,
          -1634.0367857142867,
          -1187.524846938776,
          -741.0154081632667,
          -294.5059693877546,
          222.9234693877546,
          818.2704081632638,
          1320.654846938773,
          1171.8267857142855,
          1022.986224489797,
          874.145663265303,
          725.3051020408157,
          576.4770408163249,
          427.6364795918371,
          278.79591836734653,
          129.96785714285488,
          -18.872704081634765,
          -167.7132653061235,
          -316.5413265306115,
          -465.3818877551057,
          -614.2224489795935,
          -763.0505102040825,
          -911.8910714285721,
          -1060.73163265306,
          -1209.5721938775514,
          -1358.4002551020403,
          -1507.2408163265318,
          -1656.0813775510233,
          -1804.9094387755085,
          -1953.7499999999982
         ],
         "yaxis": "y"
        }
       ],
       "layout": {
        "autosize": false,
        "height": 500,
        "legend": {
         "tracegroupgap": 0
        },
        "margin": {
         "b": 100,
         "l": 50,
         "pad": 4,
         "r": 50,
         "t": 100
        },
        "paper_bgcolor": "LightBlue",
        "template": {
         "data": {
          "bar": [
           {
            "error_x": {
             "color": "#2a3f5f"
            },
            "error_y": {
             "color": "#2a3f5f"
            },
            "marker": {
             "line": {
              "color": "#E5ECF6",
              "width": 0.5
             },
             "pattern": {
              "fillmode": "overlay",
              "size": 10,
              "solidity": 0.2
             }
            },
            "type": "bar"
           }
          ],
          "barpolar": [
           {
            "marker": {
             "line": {
              "color": "#E5ECF6",
              "width": 0.5
             },
             "pattern": {
              "fillmode": "overlay",
              "size": 10,
              "solidity": 0.2
             }
            },
            "type": "barpolar"
           }
          ],
          "carpet": [
           {
            "aaxis": {
             "endlinecolor": "#2a3f5f",
             "gridcolor": "white",
             "linecolor": "white",
             "minorgridcolor": "white",
             "startlinecolor": "#2a3f5f"
            },
            "baxis": {
             "endlinecolor": "#2a3f5f",
             "gridcolor": "white",
             "linecolor": "white",
             "minorgridcolor": "white",
             "startlinecolor": "#2a3f5f"
            },
            "type": "carpet"
           }
          ],
          "choropleth": [
           {
            "colorbar": {
             "outlinewidth": 0,
             "ticks": ""
            },
            "type": "choropleth"
           }
          ],
          "contour": [
           {
            "colorbar": {
             "outlinewidth": 0,
             "ticks": ""
            },
            "colorscale": [
             [
              0,
              "#0d0887"
             ],
             [
              0.1111111111111111,
              "#46039f"
             ],
             [
              0.2222222222222222,
              "#7201a8"
             ],
             [
              0.3333333333333333,
              "#9c179e"
             ],
             [
              0.4444444444444444,
              "#bd3786"
             ],
             [
              0.5555555555555556,
              "#d8576b"
             ],
             [
              0.6666666666666666,
              "#ed7953"
             ],
             [
              0.7777777777777778,
              "#fb9f3a"
             ],
             [
              0.8888888888888888,
              "#fdca26"
             ],
             [
              1,
              "#f0f921"
             ]
            ],
            "type": "contour"
           }
          ],
          "contourcarpet": [
           {
            "colorbar": {
             "outlinewidth": 0,
             "ticks": ""
            },
            "type": "contourcarpet"
           }
          ],
          "heatmap": [
           {
            "colorbar": {
             "outlinewidth": 0,
             "ticks": ""
            },
            "colorscale": [
             [
              0,
              "#0d0887"
             ],
             [
              0.1111111111111111,
              "#46039f"
             ],
             [
              0.2222222222222222,
              "#7201a8"
             ],
             [
              0.3333333333333333,
              "#9c179e"
             ],
             [
              0.4444444444444444,
              "#bd3786"
             ],
             [
              0.5555555555555556,
              "#d8576b"
             ],
             [
              0.6666666666666666,
              "#ed7953"
             ],
             [
              0.7777777777777778,
              "#fb9f3a"
             ],
             [
              0.8888888888888888,
              "#fdca26"
             ],
             [
              1,
              "#f0f921"
             ]
            ],
            "type": "heatmap"
           }
          ],
          "heatmapgl": [
           {
            "colorbar": {
             "outlinewidth": 0,
             "ticks": ""
            },
            "colorscale": [
             [
              0,
              "#0d0887"
             ],
             [
              0.1111111111111111,
              "#46039f"
             ],
             [
              0.2222222222222222,
              "#7201a8"
             ],
             [
              0.3333333333333333,
              "#9c179e"
             ],
             [
              0.4444444444444444,
              "#bd3786"
             ],
             [
              0.5555555555555556,
              "#d8576b"
             ],
             [
              0.6666666666666666,
              "#ed7953"
             ],
             [
              0.7777777777777778,
              "#fb9f3a"
             ],
             [
              0.8888888888888888,
              "#fdca26"
             ],
             [
              1,
              "#f0f921"
             ]
            ],
            "type": "heatmapgl"
           }
          ],
          "histogram": [
           {
            "marker": {
             "pattern": {
              "fillmode": "overlay",
              "size": 10,
              "solidity": 0.2
             }
            },
            "type": "histogram"
           }
          ],
          "histogram2d": [
           {
            "colorbar": {
             "outlinewidth": 0,
             "ticks": ""
            },
            "colorscale": [
             [
              0,
              "#0d0887"
             ],
             [
              0.1111111111111111,
              "#46039f"
             ],
             [
              0.2222222222222222,
              "#7201a8"
             ],
             [
              0.3333333333333333,
              "#9c179e"
             ],
             [
              0.4444444444444444,
              "#bd3786"
             ],
             [
              0.5555555555555556,
              "#d8576b"
             ],
             [
              0.6666666666666666,
              "#ed7953"
             ],
             [
              0.7777777777777778,
              "#fb9f3a"
             ],
             [
              0.8888888888888888,
              "#fdca26"
             ],
             [
              1,
              "#f0f921"
             ]
            ],
            "type": "histogram2d"
           }
          ],
          "histogram2dcontour": [
           {
            "colorbar": {
             "outlinewidth": 0,
             "ticks": ""
            },
            "colorscale": [
             [
              0,
              "#0d0887"
             ],
             [
              0.1111111111111111,
              "#46039f"
             ],
             [
              0.2222222222222222,
              "#7201a8"
             ],
             [
              0.3333333333333333,
              "#9c179e"
             ],
             [
              0.4444444444444444,
              "#bd3786"
             ],
             [
              0.5555555555555556,
              "#d8576b"
             ],
             [
              0.6666666666666666,
              "#ed7953"
             ],
             [
              0.7777777777777778,
              "#fb9f3a"
             ],
             [
              0.8888888888888888,
              "#fdca26"
             ],
             [
              1,
              "#f0f921"
             ]
            ],
            "type": "histogram2dcontour"
           }
          ],
          "mesh3d": [
           {
            "colorbar": {
             "outlinewidth": 0,
             "ticks": ""
            },
            "type": "mesh3d"
           }
          ],
          "parcoords": [
           {
            "line": {
             "colorbar": {
              "outlinewidth": 0,
              "ticks": ""
             }
            },
            "type": "parcoords"
           }
          ],
          "pie": [
           {
            "automargin": true,
            "type": "pie"
           }
          ],
          "scatter": [
           {
            "marker": {
             "colorbar": {
              "outlinewidth": 0,
              "ticks": ""
             }
            },
            "type": "scatter"
           }
          ],
          "scatter3d": [
           {
            "line": {
             "colorbar": {
              "outlinewidth": 0,
              "ticks": ""
             }
            },
            "marker": {
             "colorbar": {
              "outlinewidth": 0,
              "ticks": ""
             }
            },
            "type": "scatter3d"
           }
          ],
          "scattercarpet": [
           {
            "marker": {
             "colorbar": {
              "outlinewidth": 0,
              "ticks": ""
             }
            },
            "type": "scattercarpet"
           }
          ],
          "scattergeo": [
           {
            "marker": {
             "colorbar": {
              "outlinewidth": 0,
              "ticks": ""
             }
            },
            "type": "scattergeo"
           }
          ],
          "scattergl": [
           {
            "marker": {
             "colorbar": {
              "outlinewidth": 0,
              "ticks": ""
             }
            },
            "type": "scattergl"
           }
          ],
          "scattermapbox": [
           {
            "marker": {
             "colorbar": {
              "outlinewidth": 0,
              "ticks": ""
             }
            },
            "type": "scattermapbox"
           }
          ],
          "scatterpolar": [
           {
            "marker": {
             "colorbar": {
              "outlinewidth": 0,
              "ticks": ""
             }
            },
            "type": "scatterpolar"
           }
          ],
          "scatterpolargl": [
           {
            "marker": {
             "colorbar": {
              "outlinewidth": 0,
              "ticks": ""
             }
            },
            "type": "scatterpolargl"
           }
          ],
          "scatterternary": [
           {
            "marker": {
             "colorbar": {
              "outlinewidth": 0,
              "ticks": ""
             }
            },
            "type": "scatterternary"
           }
          ],
          "surface": [
           {
            "colorbar": {
             "outlinewidth": 0,
             "ticks": ""
            },
            "colorscale": [
             [
              0,
              "#0d0887"
             ],
             [
              0.1111111111111111,
              "#46039f"
             ],
             [
              0.2222222222222222,
              "#7201a8"
             ],
             [
              0.3333333333333333,
              "#9c179e"
             ],
             [
              0.4444444444444444,
              "#bd3786"
             ],
             [
              0.5555555555555556,
              "#d8576b"
             ],
             [
              0.6666666666666666,
              "#ed7953"
             ],
             [
              0.7777777777777778,
              "#fb9f3a"
             ],
             [
              0.8888888888888888,
              "#fdca26"
             ],
             [
              1,
              "#f0f921"
             ]
            ],
            "type": "surface"
           }
          ],
          "table": [
           {
            "cells": {
             "fill": {
              "color": "#EBF0F8"
             },
             "line": {
              "color": "white"
             }
            },
            "header": {
             "fill": {
              "color": "#C8D4E3"
             },
             "line": {
              "color": "white"
             }
            },
            "type": "table"
           }
          ]
         },
         "layout": {
          "annotationdefaults": {
           "arrowcolor": "#2a3f5f",
           "arrowhead": 0,
           "arrowwidth": 1
          },
          "autotypenumbers": "strict",
          "coloraxis": {
           "colorbar": {
            "outlinewidth": 0,
            "ticks": ""
           }
          },
          "colorscale": {
           "diverging": [
            [
             0,
             "#8e0152"
            ],
            [
             0.1,
             "#c51b7d"
            ],
            [
             0.2,
             "#de77ae"
            ],
            [
             0.3,
             "#f1b6da"
            ],
            [
             0.4,
             "#fde0ef"
            ],
            [
             0.5,
             "#f7f7f7"
            ],
            [
             0.6,
             "#e6f5d0"
            ],
            [
             0.7,
             "#b8e186"
            ],
            [
             0.8,
             "#7fbc41"
            ],
            [
             0.9,
             "#4d9221"
            ],
            [
             1,
             "#276419"
            ]
           ],
           "sequential": [
            [
             0,
             "#0d0887"
            ],
            [
             0.1111111111111111,
             "#46039f"
            ],
            [
             0.2222222222222222,
             "#7201a8"
            ],
            [
             0.3333333333333333,
             "#9c179e"
            ],
            [
             0.4444444444444444,
             "#bd3786"
            ],
            [
             0.5555555555555556,
             "#d8576b"
            ],
            [
             0.6666666666666666,
             "#ed7953"
            ],
            [
             0.7777777777777778,
             "#fb9f3a"
            ],
            [
             0.8888888888888888,
             "#fdca26"
            ],
            [
             1,
             "#f0f921"
            ]
           ],
           "sequentialminus": [
            [
             0,
             "#0d0887"
            ],
            [
             0.1111111111111111,
             "#46039f"
            ],
            [
             0.2222222222222222,
             "#7201a8"
            ],
            [
             0.3333333333333333,
             "#9c179e"
            ],
            [
             0.4444444444444444,
             "#bd3786"
            ],
            [
             0.5555555555555556,
             "#d8576b"
            ],
            [
             0.6666666666666666,
             "#ed7953"
            ],
            [
             0.7777777777777778,
             "#fb9f3a"
            ],
            [
             0.8888888888888888,
             "#fdca26"
            ],
            [
             1,
             "#f0f921"
            ]
           ]
          },
          "colorway": [
           "#636efa",
           "#EF553B",
           "#00cc96",
           "#ab63fa",
           "#FFA15A",
           "#19d3f3",
           "#FF6692",
           "#B6E880",
           "#FF97FF",
           "#FECB52"
          ],
          "font": {
           "color": "#2a3f5f"
          },
          "geo": {
           "bgcolor": "white",
           "lakecolor": "white",
           "landcolor": "#E5ECF6",
           "showlakes": true,
           "showland": true,
           "subunitcolor": "white"
          },
          "hoverlabel": {
           "align": "left"
          },
          "hovermode": "closest",
          "mapbox": {
           "style": "light"
          },
          "paper_bgcolor": "white",
          "plot_bgcolor": "#E5ECF6",
          "polar": {
           "angularaxis": {
            "gridcolor": "white",
            "linecolor": "white",
            "ticks": ""
           },
           "bgcolor": "#E5ECF6",
           "radialaxis": {
            "gridcolor": "white",
            "linecolor": "white",
            "ticks": ""
           }
          },
          "scene": {
           "xaxis": {
            "backgroundcolor": "#E5ECF6",
            "gridcolor": "white",
            "gridwidth": 2,
            "linecolor": "white",
            "showbackground": true,
            "ticks": "",
            "zerolinecolor": "white"
           },
           "yaxis": {
            "backgroundcolor": "#E5ECF6",
            "gridcolor": "white",
            "gridwidth": 2,
            "linecolor": "white",
            "showbackground": true,
            "ticks": "",
            "zerolinecolor": "white"
           },
           "zaxis": {
            "backgroundcolor": "#E5ECF6",
            "gridcolor": "white",
            "gridwidth": 2,
            "linecolor": "white",
            "showbackground": true,
            "ticks": "",
            "zerolinecolor": "white"
           }
          },
          "shapedefaults": {
           "line": {
            "color": "#2a3f5f"
           }
          },
          "ternary": {
           "aaxis": {
            "gridcolor": "white",
            "linecolor": "white",
            "ticks": ""
           },
           "baxis": {
            "gridcolor": "white",
            "linecolor": "white",
            "ticks": ""
           },
           "bgcolor": "#E5ECF6",
           "caxis": {
            "gridcolor": "white",
            "linecolor": "white",
            "ticks": ""
           }
          },
          "title": {
           "x": 0.05
          },
          "xaxis": {
           "automargin": true,
           "gridcolor": "white",
           "linecolor": "white",
           "ticks": "",
           "title": {
            "standoff": 15
           },
           "zerolinecolor": "white",
           "zerolinewidth": 2
          },
          "yaxis": {
           "automargin": true,
           "gridcolor": "white",
           "linecolor": "white",
           "ticks": "",
           "title": {
            "standoff": 15
           },
           "zerolinecolor": "white",
           "zerolinewidth": 2
          }
         }
        },
        "title": {
         "text": "Payoff @ Expiry"
        },
        "width": 1000,
        "xaxis": {
         "anchor": "y",
         "autorange": true,
         "domain": [
          0,
          1
         ],
         "range": [
          0,
          291.72
         ],
         "title": {
          "text": "Stock"
         },
         "type": "linear"
        },
        "yaxis": {
         "anchor": "x",
         "autorange": true,
         "domain": [
          0,
          1
         ],
         "range": [
          -11695.828047052157,
          2005.732893990927
         ],
         "title": {
          "text": "Payoff"
         },
         "type": "linear"
        }
       }
      },
      "image/png": "[encoded data removed]",
      "text/html": [
       "<div>                            <div id=\"5b0adca4-3a8b-4ae3-9d14-762d14785cf8\" class=\"plotly-graph-div\" style=\"height:500px; width:1000px;\"></div>            <script type=\"text/javascript\">                require([\"plotly\"], function(Plotly) {                    window.PLOTLYENV=window.PLOTLYENV || {};                                    if (document.getElementById(\"5b0adca4-3a8b-4ae3-9d14-762d14785cf8\")) {                    Plotly.newPlot(                        \"5b0adca4-3a8b-4ae3-9d14-762d14785cf8\",                        [{\"hovertemplate\":\"Stock=%{x}<br>Payoff=%{y}<extra></extra>\",\"legendgroup\":\"\",\"line\":{\"color\":\"#636efa\",\"dash\":\"solid\"},\"mode\":\"lines\",\"name\":\"\",\"orientation\":\"v\",\"showlegend\":false,\"type\":\"scatter\",\"x\":[0.0,5.953469387755102,11.906938775510204,17.86040816326531,23.813877551020408,29.76734693877551,35.72081632653062,41.674285714285716,47.627755102040815,53.581224489795915,59.53469387755102,65.48816326530613,71.44163265306123,77.39510204081633,83.34857142857143,89.30204081632652,95.25551020408163,101.20897959183674,107.16244897959183,113.11591836734695,119.06938775510204,125.02285714285715,130.97632653061225,136.92979591836735,142.88326530612247,148.83673469387756,154.79020408163265,160.74367346938774,166.69714285714286,172.65061224489799,178.60408163265305,184.55755102040817,190.51102040816326,196.46448979591838,202.41795918367347,208.37142857142857,214.32489795918366,220.27836734693878,226.2318367346939,232.18530612244896,238.13877551020408,244.09224489795918,250.0457142857143,255.99918367346942,261.9526530612245,267.9061224489796,273.8595918367347,279.8130612244898,285.76653061224494,291.72],\"xaxis\":\"x\",\"y\":[-11010.750000000002,-10564.240561224491,-10117.72862244898,-9671.219183673471,-9224.70974489796,-8778.19780612245,-8331.68836734694,-7885.178928571429,-7438.669489795919,-6992.15755102041,-6545.6481122449,-6099.138673469389,-5652.626734693878,-5206.11729591837,-4759.607857142858,-4313.095918367349,-3866.586479591838,-3420.0770408163276,-2973.565102040818,-2527.0556632653065,-2080.546224489797,-1634.0367857142867,-1187.524846938776,-741.0154081632667,-294.5059693877546,222.9234693877546,818.2704081632638,1320.654846938773,1171.8267857142855,1022.986224489797,874.145663265303,725.3051020408157,576.4770408163249,427.6364795918371,278.79591836734653,129.96785714285488,-18.872704081634765,-167.7132653061235,-316.5413265306115,-465.3818877551057,-614.2224489795935,-763.0505102040825,-911.8910714285721,-1060.73163265306,-1209.5721938775514,-1358.4002551020403,-1507.2408163265318,-1656.0813775510233,-1804.9094387755085,-1953.7499999999982],\"yaxis\":\"y\"}],                        {\"autosize\":false,\"height\":500,\"legend\":{\"tracegroupgap\":0},\"margin\":{\"b\":100,\"l\":50,\"pad\":4,\"r\":50,\"t\":100},\"paper_bgcolor\":\"LightBlue\",\"template\":{\"data\":{\"bar\":[{\"error_x\":{\"color\":\"#2a3f5f\"},\"error_y\":{\"color\":\"#2a3f5f\"},\"marker\":{\"line\":{\"color\":\"#E5ECF6\",\"width\":0.5},\"pattern\":{\"fillmode\":\"overlay\",\"size\":10,\"solidity\":0.2}},\"type\":\"bar\"}],\"barpolar\":[{\"marker\":{\"line\":{\"color\":\"#E5ECF6\",\"width\":0.5},\"pattern\":{\"fillmode\":\"overlay\",\"size\":10,\"solidity\":0.2}},\"type\":\"barpolar\"}],\"carpet\":[{\"aaxis\":{\"endlinecolor\":\"#2a3f5f\",\"gridcolor\":\"white\",\"linecolor\":\"white\",\"minorgridcolor\":\"white\",\"startlinecolor\":\"#2a3f5f\"},\"baxis\":{\"endlinecolor\":\"#2a3f5f\",\"gridcolor\":\"white\",\"linecolor\":\"white\",\"minorgridcolor\":\"white\",\"startlinecolor\":\"#2a3f5f\"},\"type\":\"carpet\"}],\"choropleth\":[{\"colorbar\":{\"outlinewidth\":0,\"ticks\":\"\"},\"type\":\"choropleth\"}],\"contour\":[{\"colorbar\":{\"outlinewidth\":0,\"ticks\":\"\"},\"colorscale\":[[0.0,\"#0d0887\"],[0.1111111111111111,\"#46039f\"],[0.2222222222222222,\"#7201a8\"],[0.3333333333333333,\"#9c179e\"],[0.4444444444444444,\"#bd3786\"],[0.5555555555555556,\"#d8576b\"],[0.6666666666666666,\"#ed7953\"],[0.7777777777777778,\"#fb9f3a\"],[0.8888888888888888,\"#fdca26\"],[1.0,\"#f0f921\"]],\"type\":\"contour\"}],\"contourcarpet\":[{\"colorbar\":{\"outlinewidth\":0,\"ticks\":\"\"},\"type\":\"contourcarpet\"}],\"heatmap\":[{\"colorbar\":{\"outlinewidth\":0,\"ticks\":\"\"},\"colorscale\":[[0.0,\"#0d0887\"],[0.1111111111111111,\"#46039f\"],[0.2222222222222222,\"#7201a8\"],[0.3333333333333333,\"#9c179e\"],[0.4444444444444444,\"#bd3786\"],[0.5555555555555556,\"#d8576b\"],[0.6666666666666666,\"#ed7953\"],[0.7777777777777778,\"#fb9f3a\"],[0.8888888888888888,\"#fdca26\"],[1.0,\"#f0f921\"]],\"type\":\"heatmap\"}],\"heatmapgl\":[{\"colorbar\":{\"outlinewidth\":0,\"ticks\":\"\"},\"colorscale\":[[0.0,\"#0d0887\"],[0.1111111111111111,\"#46039f\"],[0.2222222222222222,\"#7201a8\"],[0.3333333333333333,\"#9c179e\"],[0.4444444444444444,\"#bd3786\"],[0.5555555555555556,\"#d8576b\"],[0.6666666666666666,\"#ed7953\"],[0.7777777777777778,\"#fb9f3a\"],[0.8888888888888888,\"#fdca26\"],[1.0,\"#f0f921\"]],\"type\":\"heatmapgl\"}],\"histogram\":[{\"marker\":{\"pattern\":{\"fillmode\":\"overlay\",\"size\":10,\"solidity\":0.2}},\"type\":\"histogram\"}],\"histogram2d\":[{\"colorbar\":{\"outlinewidth\":0,\"ticks\":\"\"},\"colorscale\":[[0.0,\"#0d0887\"],[0.1111111111111111,\"#46039f\"],[0.2222222222222222,\"#7201a8\"],[0.3333333333333333,\"#9c179e\"],[0.4444444444444444,\"#bd3786\"],[0.5555555555555556,\"#d8576b\"],[0.6666666666666666,\"#ed7953\"],[0.7777777777777778,\"#fb9f3a\"],[0.8888888888888888,\"#fdca26\"],[1.0,\"#f0f921\"]],\"type\":\"histogram2d\"}],\"histogram2dcontour\":[{\"colorbar\":{\"outlinewidth\":0,\"ticks\":\"\"},\"colorscale\":[[0.0,\"#0d0887\"],[0.1111111111111111,\"#46039f\"],[0.2222222222222222,\"#7201a8\"],[0.3333333333333333,\"#9c179e\"],[0.4444444444444444,\"#bd3786\"],[0.5555555555555556,\"#d8576b\"],[0.6666666666666666,\"#ed7953\"],[0.7777777777777778,\"#fb9f3a\"],[0.8888888888888888,\"#fdca26\"],[1.0,\"#f0f921\"]],\"type\":\"histogram2dcontour\"}],\"mesh3d\":[{\"colorbar\":{\"outlinewidth\":0,\"ticks\":\"\"},\"type\":\"mesh3d\"}],\"parcoords\":[{\"line\":{\"colorbar\":{\"outlinewidth\":0,\"ticks\":\"\"}},\"type\":\"parcoords\"}],\"pie\":[{\"automargin\":true,\"type\":\"pie\"}],\"scatter\":[{\"marker\":{\"colorbar\":{\"outlinewidth\":0,\"ticks\":\"\"}},\"type\":\"scatter\"}],\"scatter3d\":[{\"line\":{\"colorbar\":{\"outlinewidth\":0,\"ticks\":\"\"}},\"marker\":{\"colorbar\":{\"outlinewidth\":0,\"ticks\":\"\"}},\"type\":\"scatter3d\"}],\"scattercarpet\":[{\"marker\":{\"colorbar\":{\"outlinewidth\":0,\"ticks\":\"\"}},\"type\":\"scattercarpet\"}],\"scattergeo\":[{\"marker\":{\"colorbar\":{\"outlinewidth\":0,\"ticks\":\"\"}},\"type\":\"scattergeo\"}],\"scattergl\":[{\"marker\":{\"colorbar\":{\"outlinewidth\":0,\"ticks\":\"\"}},\"type\":\"scattergl\"}],\"scattermapbox\":[{\"marker\":{\"colorbar\":{\"outlinewidth\":0,\"ticks\":\"\"}},\"type\":\"scattermapbox\"}],\"scatterpolar\":[{\"marker\":{\"colorbar\":{\"outlinewidth\":0,\"ticks\":\"\"}},\"type\":\"scatterpolar\"}],\"scatterpolargl\":[{\"marker\":{\"colorbar\":{\"outlinewidth\":0,\"ticks\":\"\"}},\"type\":\"scatterpolargl\"}],\"scatterternary\":[{\"marker\":{\"colorbar\":{\"outlinewidth\":0,\"ticks\":\"\"}},\"type\":\"scatterternary\"}],\"surface\":[{\"colorbar\":{\"outlinewidth\":0,\"ticks\":\"\"},\"colorscale\":[[0.0,\"#0d0887\"],[0.1111111111111111,\"#46039f\"],[0.2222222222222222,\"#7201a8\"],[0.3333333333333333,\"#9c179e\"],[0.4444444444444444,\"#bd3786\"],[0.5555555555555556,\"#d8576b\"],[0.6666666666666666,\"#ed7953\"],[0.7777777777777778,\"#fb9f3a\"],[0.8888888888888888,\"#fdca26\"],[1.0,\"#f0f921\"]],\"type\":\"surface\"}],\"table\":[{\"cells\":{\"fill\":{\"color\":\"#EBF0F8\"},\"line\":{\"color\":\"white\"}},\"header\":{\"fill\":{\"color\":\"#C8D4E3\"},\"line\":{\"color\":\"white\"}},\"type\":\"table\"}]},\"layout\":{\"annotationdefaults\":{\"arrowcolor\":\"#2a3f5f\",\"arrowhead\":0,\"arrowwidth\":1},\"autotypenumbers\":\"strict\",\"coloraxis\":{\"colorbar\":{\"outlinewidth\":0,\"ticks\":\"\"}},\"colorscale\":{\"diverging\":[[0,\"#8e0152\"],[0.1,\"#c51b7d\"],[0.2,\"#de77ae\"],[0.3,\"#f1b6da\"],[0.4,\"#fde0ef\"],[0.5,\"#f7f7f7\"],[0.6,\"#e6f5d0\"],[0.7,\"#b8e186\"],[0.8,\"#7fbc41\"],[0.9,\"#4d9221\"],[1,\"#276419\"]],\"sequential\":[[0.0,\"#0d0887\"],[0.1111111111111111,\"#46039f\"],[0.2222222222222222,\"#7201a8\"],[0.3333333333333333,\"#9c179e\"],[0.4444444444444444,\"#bd3786\"],[0.5555555555555556,\"#d8576b\"],[0.6666666666666666,\"#ed7953\"],[0.7777777777777778,\"#fb9f3a\"],[0.8888888888888888,\"#fdca26\"],[1.0,\"#f0f921\"]],\"sequentialminus\":[[0.0,\"#0d0887\"],[0.1111111111111111,\"#46039f\"],[0.2222222222222222,\"#7201a8\"],[0.3333333333333333,\"#9c179e\"],[0.4444444444444444,\"#bd3786\"],[0.5555555555555556,\"#d8576b\"],[0.6666666666666666,\"#ed7953\"],[0.7777777777777778,\"#fb9f3a\"],[0.8888888888888888,\"#fdca26\"],[1.0,\"#f0f921\"]]},\"colorway\":[\"#636efa\",\"#EF553B\",\"#00cc96\",\"#ab63fa\",\"#FFA15A\",\"#19d3f3\",\"#FF6692\",\"#B6E880\",\"#FF97FF\",\"#FECB52\"],\"font\":{\"color\":\"#2a3f5f\"},\"geo\":{\"bgcolor\":\"white\",\"lakecolor\":\"white\",\"landcolor\":\"#E5ECF6\",\"showlakes\":true,\"showland\":true,\"subunitcolor\":\"white\"},\"hoverlabel\":{\"align\":\"left\"},\"hovermode\":\"closest\",\"mapbox\":{\"style\":\"light\"},\"paper_bgcolor\":\"white\",\"plot_bgcolor\":\"#E5ECF6\",\"polar\":{\"angularaxis\":{\"gridcolor\":\"white\",\"linecolor\":\"white\",\"ticks\":\"\"},\"bgcolor\":\"#E5ECF6\",\"radialaxis\":{\"gridcolor\":\"white\",\"linecolor\":\"white\",\"ticks\":\"\"}},\"scene\":{\"xaxis\":{\"backgroundcolor\":\"#E5ECF6\",\"gridcolor\":\"white\",\"gridwidth\":2,\"linecolor\":\"white\",\"showbackground\":true,\"ticks\":\"\",\"zerolinecolor\":\"white\"},\"yaxis\":{\"backgroundcolor\":\"#E5ECF6\",\"gridcolor\":\"white\",\"gridwidth\":2,\"linecolor\":\"white\",\"showbackground\":true,\"ticks\":\"\",\"zerolinecolor\":\"white\"},\"zaxis\":{\"backgroundcolor\":\"#E5ECF6\",\"gridcolor\":\"white\",\"gridwidth\":2,\"linecolor\":\"white\",\"showbackground\":true,\"ticks\":\"\",\"zerolinecolor\":\"white\"}},\"shapedefaults\":{\"line\":{\"color\":\"#2a3f5f\"}},\"ternary\":{\"aaxis\":{\"gridcolor\":\"white\",\"linecolor\":\"white\",\"ticks\":\"\"},\"baxis\":{\"gridcolor\":\"white\",\"linecolor\":\"white\",\"ticks\":\"\"},\"bgcolor\":\"#E5ECF6\",\"caxis\":{\"gridcolor\":\"white\",\"linecolor\":\"white\",\"ticks\":\"\"}},\"title\":{\"x\":0.05},\"xaxis\":{\"automargin\":true,\"gridcolor\":\"white\",\"linecolor\":\"white\",\"ticks\":\"\",\"title\":{\"standoff\":15},\"zerolinecolor\":\"white\",\"zerolinewidth\":2},\"yaxis\":{\"automargin\":true,\"gridcolor\":\"white\",\"linecolor\":\"white\",\"ticks\":\"\",\"title\":{\"standoff\":15},\"zerolinecolor\":\"white\",\"zerolinewidth\":2}}},\"title\":{\"text\":\"Payoff @ Expiry\"},\"width\":1000,\"xaxis\":{\"anchor\":\"y\",\"domain\":[0.0,1.0],\"title\":{\"text\":\"Stock\"}},\"yaxis\":{\"anchor\":\"x\",\"domain\":[0.0,1.0],\"title\":{\"text\":\"Payoff\"}}},                        {\"responsive\": true}                    ).then(function(){\n",
       "                            \n",
       "var gd = document.getElementById('5b0adca4-3a8b-4ae3-9d14-762d14785cf8');\n",
       "var x = new MutationObserver(function (mutations, observer) {{\n",
       "        var display = window.getComputedStyle(gd).display;\n",
       "        if (!display || display === 'none') {{\n",
       "            console.log([gd, 'removed!']);\n",
       "            Plotly.purge(gd);\n",
       "            observer.disconnect();\n",
       "        }}\n",
       "}});\n",
       "\n",
       "// Listen for the removal of the full notebook cells\n",
       "var notebookContainer = gd.closest('#notebook-container');\n",
       "if (notebookContainer) {{\n",
       "    x.observe(notebookContainer, {childList: true});\n",
       "}}\n",
       "\n",
       "// Listen for the clearing of the current output cell\n",
       "var outputEl = gd.closest('.output');\n",
       "if (outputEl) {{\n",
       "    x.observe(outputEl, {childList: true});\n",
       "}}\n",
       "\n",
       "                        })                };                });            </script>        </div>"
      ]
     },
     "metadata": {},
     "output_type": "display_data"
    }
   ],
   "source": [
    "fig = px.line(pay_df, x=\"Stock\", y=\"Payoff\", title='Payoff @ Expiry')\n",
    "fig.update_layout(\n",
    "    autosize=False,\n",
    "    width=1000,\n",
    "    height=500,\n",
    "    margin=dict(\n",
    "        l=50,\n",
    "        r=50,\n",
    "        b=100,\n",
    "        t=100,\n",
    "        pad=4\n",
    "    ),\n",
    "    paper_bgcolor=\"LightBlue\",\n",
    ")\n",
    "\n",
    "fig.show()"
   ]
  },
  {
   "cell_type": "code",
   "execution_count": 37,
   "id": "7e4ea95f-29cd-4733-9c1b-0dfb3d941fdb",
   "metadata": {},
   "outputs": [
    {
     "name": "stdout",
     "output_type": "stream",
     "text": [
      "Cost of Options is -- -74.75\n",
      "Max payoff is on expiry at the Call Strike: 160.0 of USD 1339.2499999999986\n"
     ]
    }
   ],
   "source": [
    "cost_of_options = call_size*call_price - put_size*put_price\n",
    "print(f\"Cost of Options is -- {cost_of_options}\")\n",
    "# max payoff will happen if at expiry the stock ends at call Strike\n",
    "max_payoff = (call_strike-last_price)*stock_size + cost_of_options\n",
    "print(f\"Max payoff is on expiry at the Call Strike: {call_strike} of USD {max_payoff}\")\n"
   ]
  },
  {
   "cell_type": "markdown",
   "id": "4fd542f6-eee7-4446-bf7b-42715ad7a388",
   "metadata": {},
   "source": [
    "<b>Basically Beyond OTM Strike the Client is short ~25 units of stocks and Below the ATM Put Strike the Client is exposed to 3+ delta i.e >=75 units</b>\n",
    "\n",
    "The risk on upside can be theoretically unimited, the risk on down side can be limited to stock going to 0, we can see the range of movement in the chart above."
   ]
  },
  {
   "cell_type": "code",
   "execution_count": 38,
   "id": "ea141632-81bc-49e4-8d45-775e6405bf3e",
   "metadata": {},
   "outputs": [],
   "source": [
    "stock_delta = 1.\n",
    "call_price_1 =  american_pricer(spot_price+1., strike_price=call_strike, price_date=price_date, dividend_rate=dividend_rate,\n",
    "                                       expiry_date=expiry_date, risk_free_rate=risk_free_rate, volatility=volatility,\n",
    "                                opt_type = 'call')\n",
    "put_price_1 =  american_pricer(spot_price+1., strike_price=put_strike, price_date=price_date, dividend_rate=dividend_rate,\n",
    "                                       expiry_date=expiry_date, risk_free_rate=risk_free_rate, volatility=volatility,\n",
    "                                     opt_type = 'put')\n",
    "\n",
    "call_delta = np.round(call_price_1-call_price,2)\n",
    "put_delta = np.round(put_price_1-put_price,2)"
   ]
  },
  {
   "cell_type": "code",
   "execution_count": 39,
   "id": "0a6677c3-7b1e-4eac-9ed3-31d447ed9903",
   "metadata": {},
   "outputs": [
    {
     "name": "stdout",
     "output_type": "stream",
     "text": [
      "Portfolio Delta @ Inception is:79.75\n"
     ]
    }
   ],
   "source": [
    "portfolio_delta = (put_delta*put_size - call_delta*call_size + stock_delta*stock_size)\n",
    "print(f\"Portfolio Delta @ Inception is:{portfolio_delta}\")"
   ]
  },
  {
   "cell_type": "markdown",
   "id": "c6ce6a68-9d77-4106-be40-dc51615237ec",
   "metadata": {},
   "source": [
    "2. What would be the delta of the portfolio at 28.08.2021 if price rose by 5% since inception\n"
   ]
  },
  {
   "cell_type": "code",
   "execution_count": 40,
   "id": "4c5e50c0-3636-48bd-95cd-eba3a1341e06",
   "metadata": {},
   "outputs": [
    {
     "name": "stdout",
     "output_type": "stream",
     "text": [
      "Call Deta per unit 1.25\n"
     ]
    }
   ],
   "source": [
    "spot_price = last_price*1.05\n",
    "price_date = \"2021-08-27\"  #28 is Saturday\n",
    "expiry_date = \"2021-08-30\"\n",
    "call_price =  american_pricer(spot_price, strike_price=call_strike, price_date=price_date, dividend_rate=dividend_rate,\n",
    "                                       expiry_date=expiry_date, risk_free_rate=risk_free_rate, volatility=volatility)\n",
    "call_price_1 =  american_pricer(spot_price+1., strike_price=call_strike, price_date=price_date, dividend_rate=dividend_rate,\n",
    "                                       expiry_date=expiry_date, risk_free_rate=risk_free_rate, volatility=volatility)\n",
    "put_price =  american_pricer(spot_price, strike_price=put_strike, price_date=price_date, dividend_rate=dividend_rate,\n",
    "                                       expiry_date=expiry_date, risk_free_rate=risk_free_rate, volatility=volatility,\n",
    "                                     opt_type = 'put')\n",
    "put_price_1 =  american_pricer(spot_price+1, strike_price=put_strike, price_date=price_date, dividend_rate=dividend_rate,\n",
    "                                       expiry_date=expiry_date, risk_free_rate=risk_free_rate, volatility=volatility,\n",
    "                                     opt_type = 'put')\n",
    "call_delta = np.round(call_price_1-call_price,2)\n",
    "put_delta = np.round(put_price_1-put_price,2)\n",
    "print(f'Call Deta per unit {call_delta*125}')"
   ]
  },
  {
   "cell_type": "code",
   "execution_count": 41,
   "id": "03b67da2-fb7e-482c-ac1d-1c2213aa1936",
   "metadata": {},
   "outputs": [
    {
     "name": "stdout",
     "output_type": "stream",
     "text": [
      "Portfolio Delta @ 2021-08-27 is:98.75\n"
     ]
    }
   ],
   "source": [
    "portfolio_delta = (put_delta*put_size - call_delta*call_size + stock_delta*stock_size)\n",
    "print(f\"Portfolio Delta @ {price_date} is:{portfolio_delta}\")"
   ]
  }
 ],
 "metadata": {
  "kernelspec": {
   "display_name": "Python 3",
   "language": "python",
   "name": "python3"
  },
  "language_info": {
   "codemirror_mode": {
    "name": "ipython",
    "version": 3
   },
   "file_extension": ".py",
   "mimetype": "text/x-python",
   "name": "python",
   "nbconvert_exporter": "python",
   "pygments_lexer": "ipython3",
   "version": "3.8.10"
  }
 },
 "nbformat": 4,
 "nbformat_minor": 5
}
